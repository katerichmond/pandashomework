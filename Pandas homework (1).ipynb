{
 "cells": [
  {
   "cell_type": "markdown",
   "id": "d1e5a1ee",
   "metadata": {},
   "source": [
    "<h1>Tackling an open problem</h1>\n",
    "\n",
    "For this homework the idea is to hone our skills on exploring and plotting a dataset. You can either work with the Pokemon dataset that was given or download your own. If you opt to download your own I recommend you use one of the datasets available on kaggle,\n",
    "\n",
    "https://www.kaggle.com/datasets\n",
    "\n",
    "As they tend to be found in a clean format and are generally free to use.\n",
    "\n",
    "Largely, the main objective is learning how to search the internet for new implementations you want to use on your code helping you develop your self-confidence.\n",
    "\n",
    "There's no right or wrong, pick a dataset you enjoy and try to have some fun.\n",
    "If you need, use the notebook from the previous session as a guideline.\n"
   ]
  },
  {
   "cell_type": "code",
   "execution_count": 1,
   "id": "383c1464",
   "metadata": {},
   "outputs": [],
   "source": [
    "import pandas as pd\n",
    "import matplotlib.pyplot as plt\n",
    "import numpy as np"
   ]
  },
  {
   "cell_type": "code",
   "execution_count": 2,
   "id": "c7bdefb1",
   "metadata": {},
   "outputs": [],
   "source": [
    "pokemon_df = pd.read_csv('Pokemon.csv', sep=',')"
   ]
  },
  {
   "cell_type": "code",
   "execution_count": 3,
   "id": "c85c6e72",
   "metadata": {},
   "outputs": [
    {
     "name": "stdout",
     "output_type": "stream",
     "text": [
      "       #                   Name   Type 1  Type 2  Total  HP  Attack  Defense  \\\n",
      "0      1              Bulbasaur    Grass  Poison    318  45      49       49   \n",
      "1      2                Ivysaur    Grass  Poison    405  60      62       63   \n",
      "2      3               Venusaur    Grass  Poison    525  80      82       83   \n",
      "3      3  VenusaurMega Venusaur    Grass  Poison    625  80     100      123   \n",
      "4      4             Charmander     Fire     NaN    309  39      52       43   \n",
      "..   ...                    ...      ...     ...    ...  ..     ...      ...   \n",
      "795  719                Diancie     Rock   Fairy    600  50     100      150   \n",
      "796  719    DiancieMega Diancie     Rock   Fairy    700  50     160      110   \n",
      "797  720    HoopaHoopa Confined  Psychic   Ghost    600  80     110       60   \n",
      "798  720     HoopaHoopa Unbound  Psychic    Dark    680  80     160       60   \n",
      "799  721              Volcanion     Fire   Water    600  80     110      120   \n",
      "\n",
      "     Sp. Atk  Sp. Def  Speed  Generation  Legendary  \n",
      "0         65       65     45           1      False  \n",
      "1         80       80     60           1      False  \n",
      "2        100      100     80           1      False  \n",
      "3        122      120     80           1      False  \n",
      "4         60       50     65           1      False  \n",
      "..       ...      ...    ...         ...        ...  \n",
      "795      100      150     50           6       True  \n",
      "796      160      110    110           6       True  \n",
      "797      150      130     70           6       True  \n",
      "798      170      130     80           6       True  \n",
      "799      130       90     70           6       True  \n",
      "\n",
      "[800 rows x 13 columns]\n"
     ]
    }
   ],
   "source": [
    "print(pokemon_df)"
   ]
  },
  {
   "cell_type": "code",
   "execution_count": 5,
   "id": "fcdd1a0f",
   "metadata": {},
   "outputs": [],
   "source": [
    "attack_values = pokemon_df['Attack']"
   ]
  },
  {
   "cell_type": "code",
   "execution_count": 6,
   "id": "ca1d6730",
   "metadata": {},
   "outputs": [
    {
     "name": "stdout",
     "output_type": "stream",
     "text": [
      "0       49\n",
      "1       62\n",
      "2       82\n",
      "3      100\n",
      "4       52\n",
      "      ... \n",
      "795    100\n",
      "796    160\n",
      "797    110\n",
      "798    160\n",
      "799    110\n",
      "Name: Attack, Length: 800, dtype: int64\n"
     ]
    }
   ],
   "source": [
    "print(attack_values)"
   ]
  },
  {
   "cell_type": "code",
   "execution_count": 7,
   "id": "4ba3699e",
   "metadata": {},
   "outputs": [],
   "source": [
    "grass_pokemon = pokemon_df[pokemon_df['Type 1'] == 'Grass']"
   ]
  },
  {
   "cell_type": "code",
   "execution_count": 8,
   "id": "c4c9b321",
   "metadata": {},
   "outputs": [
    {
     "name": "stdout",
     "output_type": "stream",
     "text": [
      "       #                   Name Type 1    Type 2  Total   HP  Attack  Defense  \\\n",
      "0      1              Bulbasaur  Grass    Poison    318   45      49       49   \n",
      "1      2                Ivysaur  Grass    Poison    405   60      62       63   \n",
      "2      3               Venusaur  Grass    Poison    525   80      82       83   \n",
      "3      3  VenusaurMega Venusaur  Grass    Poison    625   80     100      123   \n",
      "48    43                 Oddish  Grass    Poison    320   45      50       55   \n",
      "..   ...                    ...    ...       ...    ...  ...     ...      ...   \n",
      "718  650                Chespin  Grass       NaN    313   56      61       65   \n",
      "719  651              Quilladin  Grass       NaN    405   61      78       95   \n",
      "720  652             Chesnaught  Grass  Fighting    530   88     107      122   \n",
      "740  672                 Skiddo  Grass       NaN    350   66      65       48   \n",
      "741  673                 Gogoat  Grass       NaN    531  123     100       62   \n",
      "\n",
      "     Sp. Atk  Sp. Def  Speed  Generation  Legendary  \n",
      "0         65       65     45           1      False  \n",
      "1         80       80     60           1      False  \n",
      "2        100      100     80           1      False  \n",
      "3        122      120     80           1      False  \n",
      "48        75       65     30           1      False  \n",
      "..       ...      ...    ...         ...        ...  \n",
      "718       48       45     38           6      False  \n",
      "719       56       58     57           6      False  \n",
      "720       74       75     64           6      False  \n",
      "740       62       57     52           6      False  \n",
      "741       97       81     68           6      False  \n",
      "\n",
      "[70 rows x 13 columns]\n"
     ]
    }
   ],
   "source": [
    "print(grass_pokemon)"
   ]
  },
  {
   "cell_type": "code",
   "execution_count": 9,
   "id": "73f92b3e",
   "metadata": {},
   "outputs": [
    {
     "name": "stdout",
     "output_type": "stream",
     "text": [
      "435.1025\n"
     ]
    }
   ],
   "source": [
    "average_total = pokemon_df['Total'].mean()\n",
    "print(average_total)"
   ]
  },
  {
   "cell_type": "code",
   "execution_count": 12,
   "id": "8b02c2ef",
   "metadata": {},
   "outputs": [
    {
     "name": "stdout",
     "output_type": "stream",
     "text": [
      "       #                       Name Type 1    Type 2  Total   HP  Attack  \\\n",
      "4      4                 Charmander   Fire       NaN    309   39      52   \n",
      "5      5                 Charmeleon   Fire       NaN    405   58      64   \n",
      "6      6                  Charizard   Fire    Flying    534   78      84   \n",
      "7      6  CharizardMega Charizard X   Fire    Dragon    634   78     130   \n",
      "8      6  CharizardMega Charizard Y   Fire    Flying    634   78     104   \n",
      "43    38                  Ninetales   Fire       NaN    505   73      76   \n",
      "63    58                  Growlithe   Fire       NaN    350   55      70   \n",
      "64    59                   Arcanine   Fire       NaN    555   90     110   \n",
      "83    77                     Ponyta   Fire       NaN    410   50      85   \n",
      "84    78                   Rapidash   Fire       NaN    500   65     100   \n",
      "135  126                     Magmar   Fire       NaN    495   65      95   \n",
      "147  136                    Flareon   Fire       NaN    525   65     130   \n",
      "158  146                    Moltres   Fire    Flying    580   90     100   \n",
      "169  155                  Cyndaquil   Fire       NaN    309   39      52   \n",
      "170  156                    Quilava   Fire       NaN    405   58      64   \n",
      "171  157                 Typhlosion   Fire       NaN    534   78      84   \n",
      "259  240                      Magby   Fire       NaN    365   45      75   \n",
      "263  244                      Entei   Fire       NaN    580  115     115   \n",
      "270  250                      Ho-oh   Fire    Flying    680  106     130   \n",
      "276  255                    Torchic   Fire       NaN    310   45      60   \n",
      "277  256                  Combusken   Fire  Fighting    405   60      85   \n",
      "278  257                   Blaziken   Fire  Fighting    530   80     120   \n",
      "279  257      BlazikenMega Blaziken   Fire  Fighting    630   80     160   \n",
      "352  322                      Numel   Fire    Ground    305   60      60   \n",
      "353  323                   Camerupt   Fire    Ground    460   70     100   \n",
      "354  323      CameruptMega Camerupt   Fire    Ground    560   70     120   \n",
      "355  324                    Torkoal   Fire       NaN    470   70      85   \n",
      "435  390                   Chimchar   Fire       NaN    309   44      58   \n",
      "436  391                   Monferno   Fire  Fighting    405   64      78   \n",
      "437  392                  Infernape   Fire  Fighting    534   76     104   \n",
      "518  467                  Magmortar   Fire       NaN    540   75      95   \n",
      "542  485                    Heatran   Fire     Steel    600   91      90   \n",
      "557  498                      Tepig   Fire       NaN    308   65      63   \n",
      "558  499                    Pignite   Fire  Fighting    418   90      93   \n",
      "559  500                     Emboar   Fire  Fighting    528  110     123   \n",
      "572  513                    Pansear   Fire       NaN    316   50      53   \n",
      "573  514                   Simisear   Fire       NaN    498   75      98   \n",
      "614  554                   Darumaka   Fire       NaN    315   70      90   \n",
      "615  555    DarmanitanStandard Mode   Fire       NaN    480  105     140   \n",
      "692  631                    Heatmor   Fire       NaN    484   85      97   \n",
      "722  654                    Braixen   Fire       NaN    409   59      59   \n",
      "723  655                    Delphox   Fire   Psychic    534   75      69   \n",
      "730  662                Fletchinder   Fire    Flying    382   62      73   \n",
      "731  663                 Talonflame   Fire    Flying    499   78      81   \n",
      "736  668                     Pyroar   Fire    Normal    507   86      68   \n",
      "799  721                  Volcanion   Fire     Water    600   80     110   \n",
      "\n",
      "     Defense  Sp. Atk  Sp. Def  Speed  Generation  Legendary  \n",
      "4         43       60       50     65           1      False  \n",
      "5         58       80       65     80           1      False  \n",
      "6         78      109       85    100           1      False  \n",
      "7        111      130       85    100           1      False  \n",
      "8         78      159      115    100           1      False  \n",
      "43        75       81      100    100           1      False  \n",
      "63        45       70       50     60           1      False  \n",
      "64        80      100       80     95           1      False  \n",
      "83        55       65       65     90           1      False  \n",
      "84        70       80       80    105           1      False  \n",
      "135       57      100       85     93           1      False  \n",
      "147       60       95      110     65           1      False  \n",
      "158       90      125       85     90           1       True  \n",
      "169       43       60       50     65           2      False  \n",
      "170       58       80       65     80           2      False  \n",
      "171       78      109       85    100           2      False  \n",
      "259       37       70       55     83           2      False  \n",
      "263       85       90       75    100           2       True  \n",
      "270       90      110      154     90           2       True  \n",
      "276       40       70       50     45           3      False  \n",
      "277       60       85       60     55           3      False  \n",
      "278       70      110       70     80           3      False  \n",
      "279       80      130       80    100           3      False  \n",
      "352       40       65       45     35           3      False  \n",
      "353       70      105       75     40           3      False  \n",
      "354      100      145      105     20           3      False  \n",
      "355      140       85       70     20           3      False  \n",
      "435       44       58       44     61           4      False  \n",
      "436       52       78       52     81           4      False  \n",
      "437       71      104       71    108           4      False  \n",
      "518       67      125       95     83           4      False  \n",
      "542      106      130      106     77           4       True  \n",
      "557       45       45       45     45           5      False  \n",
      "558       55       70       55     55           5      False  \n",
      "559       65      100       65     65           5      False  \n",
      "572       48       53       48     64           5      False  \n",
      "573       63       98       63    101           5      False  \n",
      "614       45       15       45     50           5      False  \n",
      "615       55       30       55     95           5      False  \n",
      "692       66      105       66     65           5      False  \n",
      "722       58       90       70     73           6      False  \n",
      "723       72      114      100    104           6      False  \n",
      "730       55       56       52     84           6      False  \n",
      "731       71       74       69    126           6      False  \n",
      "736       72      109       66    106           6      False  \n",
      "799      120      130       90     70           6       True  \n"
     ]
    }
   ],
   "source": [
    "fire_pokemon_with_high_attack = pokemon_df[(pokemon_df['Type 1'] == 'Fire') & (pokemon_df['Attack'] > 50)]\n",
    "print(fire_pokemon_with_high_attack)"
   ]
  },
  {
   "cell_type": "code",
   "execution_count": 16,
   "id": "38744cf6",
   "metadata": {},
   "outputs": [],
   "source": [
    "type1_summary = pokemon_df.groupby('Type 1').agg({\n",
    "    'Total': 'mean',\n",
    "    'HP': 'max',\n",
    "    'Attack': 'min'\n",
    "}).reset_index()\n"
   ]
  },
  {
   "cell_type": "code",
   "execution_count": 17,
   "id": "ee25f752",
   "metadata": {},
   "outputs": [
    {
     "name": "stdout",
     "output_type": "stream",
     "text": [
      "      Type 1       Total   HP  Attack\n",
      "0        Bug  378.927536   86      10\n",
      "1       Dark  445.741935  126      50\n",
      "2     Dragon  550.531250  125      50\n",
      "3   Electric  443.409091   90      30\n",
      "4      Fairy  413.176471  126      20\n",
      "5   Fighting  416.444444  144      35\n",
      "6       Fire  458.076923  115      30\n",
      "7     Flying  485.000000   85      30\n",
      "8      Ghost  439.562500  150      30\n",
      "9      Grass  421.142857  123      27\n",
      "10    Ground  437.500000  115      40\n",
      "11       Ice  433.458333  110      30\n",
      "12    Normal  401.683673  255       5\n",
      "13    Poison  399.142857  105      43\n",
      "14   Psychic  475.947368  190      20\n",
      "15      Rock  453.750000  123      40\n",
      "16     Steel  487.703704  100      24\n",
      "17     Water  430.455357  170      10\n"
     ]
    }
   ],
   "source": [
    "print(type1_summary)"
   ]
  },
  {
   "cell_type": "code",
   "execution_count": 18,
   "id": "bb20418e",
   "metadata": {},
   "outputs": [],
   "source": [
    "pivot_table = pokemon_df.pivot_table(values=['Total'], index=['Type 1'], columns=['Type 2'], aggfunc='mean', fill_value=0)"
   ]
  },
  {
   "cell_type": "code",
   "execution_count": 19,
   "id": "bc1165c6",
   "metadata": {},
   "outputs": [
    {
     "name": "stdout",
     "output_type": "stream",
     "text": [
      "\n",
      "Pivot Table:\n",
      "          Total                                                      \\\n",
      "Type 2     Bug        Dark Dragon Electric       Fairy    Fighting   \n",
      "Type 1                                                               \n",
      "Bug          0    0.000000    0.0    395.5    0.000000  550.000000   \n",
      "Dark         0    0.000000  440.0      0.0    0.000000  418.000000   \n",
      "Dragon       0    0.000000    0.0    680.0  590.000000    0.000000   \n",
      "Electric     0    0.000000  610.0      0.0  431.000000    0.000000   \n",
      "Fairy        0    0.000000    0.0      0.0    0.000000    0.000000   \n",
      "Fighting     0  495.000000    0.0      0.0    0.000000    0.000000   \n",
      "Fire         0    0.000000  634.0      0.0    0.000000  492.857143   \n",
      "Flying       0    0.000000  390.0      0.0    0.000000    0.000000   \n",
      "Ghost        0  485.000000  680.0      0.0    0.000000    0.000000   \n",
      "Grass        0  431.666667  630.0      0.0  380.000000  523.333333   \n",
      "Ground       0  387.333333  430.0    471.0    0.000000    0.000000   \n",
      "Ice          0    0.000000    0.0      0.0    0.000000    0.000000   \n",
      "Normal       0    0.000000    0.0      0.0  330.000000  590.000000   \n",
      "Poison     330  436.000000  494.0      0.0    0.000000  395.000000   \n",
      "Psychic      0  680.000000    0.0      0.0  397.000000  638.666667   \n",
      "Rock       425  650.000000  441.5      0.0  600.000000  580.000000   \n",
      "Steel        0    0.000000  680.0      0.0  443.333333  580.000000   \n",
      "Water        0  493.833333  610.0    395.0  335.000000  556.666667   \n",
      "\n",
      "                                                                              \\\n",
      "Type 2          Fire      Flying   Ghost       Grass      Ground         Ice   \n",
      "Type 1                                                                         \n",
      "Bug       455.000000  419.500000  236.00  384.000000  345.000000    0.000000   \n",
      "Dark      476.666667  494.000000  430.00    0.000000    0.000000  470.000000   \n",
      "Dragon    680.000000  641.666667    0.00    0.000000  522.000000  686.666667   \n",
      "Electric  520.000000  537.600000  440.00  520.000000    0.000000  520.000000   \n",
      "Fairy       0.000000  475.000000    0.00    0.000000    0.000000    0.000000   \n",
      "Fighting    0.000000  500.000000    0.00    0.000000    0.000000    0.000000   \n",
      "Fire        0.000000  551.500000    0.00    0.000000  441.666667    0.000000   \n",
      "Flying      0.000000    0.000000    0.00    0.000000    0.000000    0.000000   \n",
      "Ghost     388.333333  423.000000    0.00  409.900000    0.000000    0.000000   \n",
      "Grass       0.000000  422.000000    0.00    0.000000  525.000000  474.000000   \n",
      "Ground    770.000000  535.000000  393.00    0.000000    0.000000    0.000000   \n",
      "Ice         0.000000  455.000000  480.00    0.000000  410.000000    0.000000   \n",
      "Normal      0.000000  371.958333    0.00  405.000000  423.000000    0.000000   \n",
      "Poison      0.000000  411.666667    0.00    0.000000  505.000000    0.000000   \n",
      "Psychic   600.000000  449.666667  600.00  600.000000    0.000000    0.000000   \n",
      "Rock        0.000000  524.500000    0.00  425.000000  380.000000  441.500000   \n",
      "Steel       0.000000  465.000000  453.25    0.000000  560.000000    0.000000   \n",
      "Water       0.000000  404.000000  407.50  346.666667  433.900000  511.666667   \n",
      "\n",
      "                                                                         \n",
      "Type 2   Normal      Poison     Psychic    Rock       Steel       Water  \n",
      "Type 1                                                                   \n",
      "Bug           0  347.916667    0.000000  435.00  509.714286  269.000000  \n",
      "Dark          0    0.000000  385.000000    0.00  415.000000    0.000000  \n",
      "Dragon        0    0.000000  650.000000    0.00    0.000000    0.000000  \n",
      "Electric    385    0.000000    0.000000    0.00  441.666667  520.000000  \n",
      "Fairy         0    0.000000    0.000000    0.00    0.000000    0.000000  \n",
      "Fighting      0    0.000000  400.000000    0.00  575.000000    0.000000  \n",
      "Fire        438    0.000000  537.000000  410.00  600.000000  600.000000  \n",
      "Flying        0    0.000000    0.000000    0.00    0.000000    0.000000  \n",
      "Ghost         0  453.750000    0.000000    0.00    0.000000    0.000000  \n",
      "Grass         0  414.066667  422.500000    0.00  397.000000    0.000000  \n",
      "Ground        0    0.000000  400.000000  455.00  508.000000    0.000000  \n",
      "Ice           0    0.000000  380.000000    0.00    0.000000  410.000000  \n",
      "Normal        0    0.000000  527.500000    0.00    0.000000  410.000000  \n",
      "Poison        0    0.000000    0.000000    0.00    0.000000  320.000000  \n",
      "Psychic       0    0.000000    0.000000    0.00    0.000000    0.000000  \n",
      "Rock          0    0.000000  440.000000    0.00  456.666667  417.666667  \n",
      "Steel         0    0.000000  488.571429  430.00    0.000000    0.000000  \n",
      "Water         0  426.666667  481.000000  428.75  530.000000    0.000000  \n"
     ]
    }
   ],
   "source": [
    "print(\"\\nPivot Table:\\n\", pivot_table)"
   ]
  },
  {
   "cell_type": "code",
   "execution_count": 20,
   "id": "958e4667",
   "metadata": {},
   "outputs": [
    {
     "name": "stdout",
     "output_type": "stream",
     "text": [
      "\n",
      "my_pokedex Dataset:\n",
      "                    Pokemon     Type  HP  Attack  Defense\n",
      "0                Bulbasaur    Grass  45      49       49\n",
      "1                  Ivysaur    Grass  60      62       63\n",
      "2                 Venusaur    Grass  80      82       83\n",
      "3    VenusaurMega Venusaur    Grass  80     100      123\n",
      "4               Charmander     Fire  39      52       43\n",
      "..                     ...      ...  ..     ...      ...\n",
      "795                Diancie     Rock  50     100      150\n",
      "796    DiancieMega Diancie     Rock  50     160      110\n",
      "797    HoopaHoopa Confined  Psychic  80     110       60\n",
      "798     HoopaHoopa Unbound  Psychic  80     160       60\n",
      "799              Volcanion     Fire  80     110      120\n",
      "\n",
      "[800 rows x 5 columns]\n"
     ]
    }
   ],
   "source": [
    "my_pokedex = pokemon_df[['Name', 'Type 1', 'HP', 'Attack', 'Defense']].copy()\n",
    "my_pokedex.columns = ['Pokemon', 'Type', 'HP', 'Attack', 'Defense']\n",
    "print(\"\\nmy_pokedex Dataset:\\n\", my_pokedex)"
   ]
  },
  {
   "cell_type": "code",
   "execution_count": 22,
   "id": "d9b3892c",
   "metadata": {},
   "outputs": [],
   "source": [
    "my_pokedex = my_pokedex.sort_values(by='Pokemon')"
   ]
  },
  {
   "cell_type": "code",
   "execution_count": 23,
   "id": "942f7326",
   "metadata": {},
   "outputs": [
    {
     "name": "stdout",
     "output_type": "stream",
     "text": [
      "\n",
      "my_pokedex Dataset (Alphabetically Sorted by Pokemon):\n",
      "                      Pokemon     Type   HP  Attack  Defense\n",
      "510                Abomasnow    Grass   90      92       75\n",
      "511  AbomasnowMega Abomasnow    Grass   90     132      105\n",
      "68                      Abra  Psychic   25      20       15\n",
      "392                    Absol     Dark   65     130       60\n",
      "393          AbsolMega Absol     Dark   65     150       60\n",
      "..                       ...      ...  ...     ...      ...\n",
      "632                  Zoroark     Dark   60     105       60\n",
      "631                    Zorua     Dark   40      65       40\n",
      "46                     Zubat   Poison   40      45       35\n",
      "695                 Zweilous     Dark   72      85       70\n",
      "794         Zygarde50% Forme   Dragon  108     100      121\n",
      "\n",
      "[800 rows x 5 columns]\n"
     ]
    }
   ],
   "source": [
    "print(\"\\nmy_pokedex Dataset (Alphabetically Sorted by Pokemon):\\n\", my_pokedex)"
   ]
  },
  {
   "cell_type": "code",
   "execution_count": 25,
   "id": "41aad8a5",
   "metadata": {},
   "outputs": [],
   "source": [
    "average_hp_by_type = my_pokedex.groupby('Type')['HP'].mean().reset_index()"
   ]
  },
  {
   "cell_type": "code",
   "execution_count": 26,
   "id": "60763af9",
   "metadata": {},
   "outputs": [
    {
     "data": {
      "image/png": "[encoded data removed]",
      "text/plain": [
       "<Figure size 640x480 with 1 Axes>"
      ]
     },
     "metadata": {},
     "output_type": "display_data"
    }
   ],
   "source": [
    "plt.bar(average_hp_by_type['Type'], average_hp_by_type['HP'])\n",
    "plt.xlabel('Type')\n",
    "plt.ylabel('Average HP')\n",
    "plt.title('Average HP by Type')\n",
    "plt.show()"
   ]
  },
  {
   "cell_type": "code",
   "execution_count": 29,
   "id": "677d8b44",
   "metadata": {},
   "outputs": [
    {
     "name": "stdout",
     "output_type": "stream",
     "text": [
      "\n",
      "Pokémon whose names begin with 'B':\n",
      "                      Pokemon      Type   HP  Attack  Defense\n",
      "406                    Bagon    Dragon   45      75       60\n",
      "375                   Baltoy    Ground   40      40       55\n",
      "386                  Banette     Ghost   64     115       65\n",
      "387      BanetteMega Banette     Ghost   64     165       75\n",
      "759               Barbaracle      Rock   72     105      115\n",
      "371                 Barboach     Water   50      48       43\n",
      "610                 Basculin     Water   70      92       65\n",
      "456                Bastiodon      Rock   60      52      168\n",
      "167                  Bayleef     Grass   60      62       80\n",
      "675                  Beartic       Ice   95     110       80\n",
      "290                Beautifly       Bug   60      70       50\n",
      "18                  Beedrill       Bug   65      90       40\n",
      "19     BeedrillMega Beedrill       Bug   65     150       40\n",
      "667                 Beheeyem   Psychic   75      75       75\n",
      "410                   Beldum     Steel   40      55       80\n",
      "197                Bellossom     Grass   75      80       95\n",
      "75                Bellsprout     Grass   50      75       35\n",
      "788                 Bergmite       Ice   55      69       85\n",
      "445                  Bibarel    Normal   79      85       60\n",
      "444                   Bidoof    Normal   59      45       40\n",
      "758                  Binacle      Rock   42      52       67\n",
      "686                  Bisharp      Dark   65     125      100\n",
      "11                 Blastoise     Water   79      83      100\n",
      "12   BlastoiseMega Blastoise     Water   79     103      120\n",
      "278                 Blaziken      Fire   80     120       70\n",
      "279    BlazikenMega Blaziken      Fire   80     160       80\n",
      "261                  Blissey    Normal  255      10       10\n",
      "581                  Blitzle  Electric   45      60       32\n",
      "584                  Boldore      Rock   70     105      105\n",
      "486                   Bonsly      Rock   50      80       95\n",
      "687               Bouffalant    Normal   95     110       95\n",
      "722                  Braixen      Fire   59      59       58\n",
      "689                 Braviary    Normal  100     123       75\n",
      "310                  Breloom     Grass   60     130       80\n",
      "485                 Bronzong     Steel   67      89      116\n",
      "484                  Bronzor     Steel   57      24       86\n",
      "451                    Budew     Grass   40      30       35\n",
      "465                   Buizel     Water   55      65       35\n",
      "0                  Bulbasaur     Grass   45      49       49\n",
      "474                  Buneary    Normal   55      66       44\n",
      "727                 Bunnelby    Normal   38      36       38\n",
      "457                    Burmy       Bug   40      29       45\n",
      "15                Butterfree       Bug   60      45       50\n"
     ]
    }
   ],
   "source": [
    "pokemon_starting_with_b = my_pokedex[my_pokedex['Pokemon'].str.startswith('B')]\n",
    "print(\"\\nPokémon whose names begin with 'B':\\n\", pokemon_starting_with_b)"
   ]
  },
  {
   "cell_type": "code",
   "execution_count": null,
   "id": "935e24ce",
   "metadata": {},
   "outputs": [],
   "source": []
  }
 ],
 "metadata": {
  "kernelspec": {
   "display_name": "Python 3 (ipykernel)",
   "language": "python",
   "name": "python3"
  },
  "language_info": {
   "codemirror_mode": {
    "name": "ipython",
    "version": 3
   },
   "file_extension": ".py",
   "mimetype": "text/x-python",
   "name": "python",
   "nbconvert_exporter": "python",
   "pygments_lexer": "ipython3",
   "version": "3.11.5"
  }
 },
 "nbformat": 4,
 "nbformat_minor": 5
}
